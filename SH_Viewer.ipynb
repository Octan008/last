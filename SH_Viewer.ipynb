{
 "cells": [
  {
   "cell_type": "code",
   "execution_count": 1,
   "id": "06087a99",
   "metadata": {},
   "outputs": [],
   "source": [
    "import os\n",
    "import torch\n",
    "import torch.nn.functional as F\n",
    "import matplotlib.pyplot as plt\n",
    "\n",
    "# Util function for loading point clouds|\n",
    "\n",
    "import numpy as np\n",
    "\n",
    "# Data structures and functions for rendering\n",
    "# from pytorch3d.structures import Pointclouds\n",
    "# from pytorch3d.vis.plotly_vis import AxisArgs, plot_batch_individually, plot_scene\n",
    "# from pytorch3d.renderer import (\n",
    "#     look_at_view_transform,\n",
    "#     FoVOrthographicCameras, \n",
    "#     PointsRasterizationSettings,\n",
    "#     PointsRenderer,\n",
    "#     PulsarPointsRenderer,\n",
    "#     PointsRasterizer,\n",
    "#     AlphaCompositor,\n",
    "#     NormWeightedCompositor\n",
    "# )\n",
    "# Setup\n",
    "if torch.cuda.is_available():\n",
    "    device = torch.device(\"cuda:0\")\n",
    "    torch.cuda.set_device(device)\n",
    "else:\n",
    "    device = torch.device(\"cpu\")\n"
   ]
  },
  {
   "cell_type": "code",
   "execution_count": 2,
   "id": "6936101f",
   "metadata": {},
   "outputs": [],
   "source": [
    "# !LD_LIBRARY_PATH=lib/python3.8/site-packages/open3d\n",
    "# !python --version\n",
    "# !pip install opencv-python\n",
    "# !pip install opencv-contrib-python\n",
    "# !apt-get update -y\n",
    "# !apt-get install -y libgl1-mesa-dev"
   ]
  },
  {
   "cell_type": "code",
   "execution_count": 6,
   "id": "627274be",
   "metadata": {},
   "outputs": [
    {
     "name": "stdout",
     "output_type": "stream",
     "text": [
      "\u001b[33mWARNING: The directory '/root/.cache/pip' or its parent directory is not owned or is not writable by the current user. The cache has been disabled. Check the permissions and owner of that directory. If executing pip with sudo, you should use sudo's -H flag.\u001b[0m\n",
      "Collecting pyvista\n",
      "  Downloading pyvista-0.37.0-py3-none-any.whl (1.5 MB)\n",
      "\u001b[K     |████████████████████████████████| 1.5 MB 12.4 MB/s eta 0:00:01\n",
      "\u001b[?25hCollecting scooby>=0.5.1\n",
      "  Downloading scooby-0.7.0-py3-none-any.whl (16 kB)\n",
      "Collecting pooch\n",
      "  Downloading pooch-1.6.0-py3-none-any.whl (56 kB)\n",
      "\u001b[K     |████████████████████████████████| 56 kB 79.8 MB/s eta 0:00:01\n",
      "\u001b[?25hRequirement already satisfied: numpy in /root/.pyenv/versions/3.8.12/lib/python3.8/site-packages (from pyvista) (1.23.1)\n",
      "Requirement already satisfied: vtk in /root/.pyenv/versions/3.8.12/lib/python3.8/site-packages (from pyvista) (9.0.3)\n",
      "Requirement already satisfied: pillow in /root/.pyenv/versions/3.8.12/lib/python3.8/site-packages (from pyvista) (8.3.2)\n",
      "Requirement already satisfied: imageio in /root/.pyenv/versions/3.8.12/lib/python3.8/site-packages (from pyvista) (2.16.1)\n",
      "Requirement already satisfied: packaging>=20.0 in /root/.pyenv/versions/3.8.12/lib/python3.8/site-packages (from pooch->pyvista) (21.3)\n",
      "Collecting appdirs>=1.3.0\n",
      "  Downloading appdirs-1.4.4-py2.py3-none-any.whl (9.6 kB)\n",
      "Requirement already satisfied: requests>=2.19.0 in /root/.pyenv/versions/3.8.12/lib/python3.8/site-packages (from pooch->pyvista) (2.26.0)\n",
      "Requirement already satisfied: pyparsing!=3.0.5,>=2.0.2 in /root/.pyenv/versions/3.8.12/lib/python3.8/site-packages (from packaging>=20.0->pooch->pyvista) (2.4.7)\n",
      "Requirement already satisfied: idna<4,>=2.5 in /root/.pyenv/versions/3.8.12/lib/python3.8/site-packages (from requests>=2.19.0->pooch->pyvista) (3.2)\n",
      "Requirement already satisfied: charset-normalizer~=2.0.0 in /root/.pyenv/versions/3.8.12/lib/python3.8/site-packages (from requests>=2.19.0->pooch->pyvista) (2.0.4)\n",
      "Requirement already satisfied: certifi>=2017.4.17 in /root/.pyenv/versions/3.8.12/lib/python3.8/site-packages (from requests>=2.19.0->pooch->pyvista) (2021.5.30)\n",
      "Requirement already satisfied: urllib3<1.27,>=1.21.1 in /root/.pyenv/versions/3.8.12/lib/python3.8/site-packages (from requests>=2.19.0->pooch->pyvista) (1.26.6)\n",
      "Requirement already satisfied: wslink>=0.1.3 in /root/.pyenv/versions/3.8.12/lib/python3.8/site-packages (from vtk->pyvista) (1.6.6)\n",
      "Requirement already satisfied: Twisted>=17.5.0 in /root/.pyenv/versions/3.8.12/lib/python3.8/site-packages (from vtk->pyvista) (22.4.0)\n",
      "Requirement already satisfied: autobahn>=17.7.1 in /root/.pyenv/versions/3.8.12/lib/python3.8/site-packages (from vtk->pyvista) (22.7.1)\n",
      "Requirement already satisfied: matplotlib>=2.0.0 in /root/.pyenv/versions/3.8.12/lib/python3.8/site-packages (from vtk->pyvista) (3.6.2)\n",
      "Requirement already satisfied: txaio>=21.2.1 in /root/.pyenv/versions/3.8.12/lib/python3.8/site-packages (from autobahn>=17.7.1->vtk->pyvista) (22.2.1)\n",
      "Requirement already satisfied: hyperlink>=21.0.0 in /root/.pyenv/versions/3.8.12/lib/python3.8/site-packages (from autobahn>=17.7.1->vtk->pyvista) (21.0.0)\n",
      "Requirement already satisfied: setuptools in /root/.pyenv/versions/3.8.12/lib/python3.8/site-packages (from autobahn>=17.7.1->vtk->pyvista) (56.0.0)\n",
      "Requirement already satisfied: cryptography>=3.4.6 in /root/.pyenv/versions/3.8.12/lib/python3.8/site-packages (from autobahn>=17.7.1->vtk->pyvista) (37.0.4)\n",
      "Requirement already satisfied: cffi>=1.12 in /root/.pyenv/versions/3.8.12/lib/python3.8/site-packages (from cryptography>=3.4.6->autobahn>=17.7.1->vtk->pyvista) (1.15.0)\n",
      "Requirement already satisfied: pycparser in /root/.pyenv/versions/3.8.12/lib/python3.8/site-packages (from cffi>=1.12->cryptography>=3.4.6->autobahn>=17.7.1->vtk->pyvista) (2.21)\n",
      "Requirement already satisfied: cycler>=0.10 in /root/.pyenv/versions/3.8.12/lib/python3.8/site-packages (from matplotlib>=2.0.0->vtk->pyvista) (0.10.0)\n",
      "Requirement already satisfied: contourpy>=1.0.1 in /root/.pyenv/versions/3.8.12/lib/python3.8/site-packages (from matplotlib>=2.0.0->vtk->pyvista) (1.0.6)\n",
      "Requirement already satisfied: python-dateutil>=2.7 in /root/.pyenv/versions/3.8.12/lib/python3.8/site-packages (from matplotlib>=2.0.0->vtk->pyvista) (2.8.2)\n",
      "Requirement already satisfied: fonttools>=4.22.0 in /root/.pyenv/versions/3.8.12/lib/python3.8/site-packages (from matplotlib>=2.0.0->vtk->pyvista) (4.38.0)\n",
      "Requirement already satisfied: kiwisolver>=1.0.1 in /root/.pyenv/versions/3.8.12/lib/python3.8/site-packages (from matplotlib>=2.0.0->vtk->pyvista) (1.3.2)\n",
      "Requirement already satisfied: six in /root/.pyenv/versions/3.8.12/lib/python3.8/site-packages (from cycler>=0.10->matplotlib>=2.0.0->vtk->pyvista) (1.15.0)\n",
      "Requirement already satisfied: typing-extensions>=3.6.5 in /root/.pyenv/versions/3.8.12/lib/python3.8/site-packages (from Twisted>=17.5.0->vtk->pyvista) (3.7.4.3)\n",
      "Requirement already satisfied: zope.interface>=4.4.2 in /root/.pyenv/versions/3.8.12/lib/python3.8/site-packages (from Twisted>=17.5.0->vtk->pyvista) (5.4.0)\n",
      "Requirement already satisfied: constantly>=15.1 in /root/.pyenv/versions/3.8.12/lib/python3.8/site-packages (from Twisted>=17.5.0->vtk->pyvista) (15.1.0)\n",
      "Requirement already satisfied: incremental>=21.3.0 in /root/.pyenv/versions/3.8.12/lib/python3.8/site-packages (from Twisted>=17.5.0->vtk->pyvista) (21.3.0)\n",
      "Requirement already satisfied: Automat>=0.8.0 in /root/.pyenv/versions/3.8.12/lib/python3.8/site-packages (from Twisted>=17.5.0->vtk->pyvista) (20.2.0)\n",
      "Requirement already satisfied: attrs>=19.2.0 in /root/.pyenv/versions/3.8.12/lib/python3.8/site-packages (from Twisted>=17.5.0->vtk->pyvista) (21.4.0)\n",
      "Requirement already satisfied: aiohttp<4 in /root/.pyenv/versions/3.8.12/lib/python3.8/site-packages (from wslink>=0.1.3->vtk->pyvista) (3.8.1)\n",
      "Requirement already satisfied: aiosignal>=1.1.2 in /root/.pyenv/versions/3.8.12/lib/python3.8/site-packages (from aiohttp<4->wslink>=0.1.3->vtk->pyvista) (1.2.0)\n",
      "Requirement already satisfied: frozenlist>=1.1.1 in /root/.pyenv/versions/3.8.12/lib/python3.8/site-packages (from aiohttp<4->wslink>=0.1.3->vtk->pyvista) (1.3.1)\n",
      "Requirement already satisfied: yarl<2.0,>=1.0 in /root/.pyenv/versions/3.8.12/lib/python3.8/site-packages (from aiohttp<4->wslink>=0.1.3->vtk->pyvista) (1.8.1)\n",
      "Requirement already satisfied: multidict<7.0,>=4.5 in /root/.pyenv/versions/3.8.12/lib/python3.8/site-packages (from aiohttp<4->wslink>=0.1.3->vtk->pyvista) (6.0.2)\n",
      "Requirement already satisfied: async-timeout<5.0,>=4.0.0a3 in /root/.pyenv/versions/3.8.12/lib/python3.8/site-packages (from aiohttp<4->wslink>=0.1.3->vtk->pyvista) (4.0.2)\n",
      "Installing collected packages: appdirs, scooby, pooch, pyvista\n",
      "Successfully installed appdirs-1.4.4 pooch-1.6.0 pyvista-0.37.0 scooby-0.7.0\n",
      "\u001b[33mWARNING: Running pip as root will break packages and permissions. You should install packages reliably by using venv: https://pip.pypa.io/warnings/venv\u001b[0m\n",
      "\u001b[33mWARNING: You are using pip version 21.1.1; however, version 22.3.1 is available.\n",
      "You should consider upgrading via the '/root/.pyenv/versions/3.8.12/bin/python3.8 -m pip install --upgrade pip' command.\u001b[0m\n"
     ]
    }
   ],
   "source": [
    "# import open3d as o3d\n",
    "# from open3d import JVisualizer\n",
    "!pip install pyvista\n",
    "# !apt-get install libxrender1\n",
    "# !pip install ipyvtklink\n",
    "# ! apt install -y libgl1-mesa-glx xvfb\n",
    "# !pip install itkwidgets"
   ]
  },
  {
   "cell_type": "code",
   "execution_count": 4,
   "id": "b0545c9b",
   "metadata": {},
   "outputs": [],
   "source": [
    "# sphere = o3d.geometry.TriangleMesh.create_sphere(radius=1.0, resolution=20, create_uv_map=False)"
   ]
  },
  {
   "cell_type": "code",
   "execution_count": null,
   "id": "a074ff2f",
   "metadata": {},
   "outputs": [],
   "source": [
    "import pyvista as pv\n",
    "sphere = pv.Sphere()\n",
    "\n",
    "# short example\n",
    "cpos, image = sphere.plot(notebook=True)\n",
    "\n",
    "# long example\n",
    "plotter = pv.Plotter(notebook=True)\n",
    "plotter.add_mesh(sphere)\n",
    "plotter.show()\n"
   ]
  },
  {
   "cell_type": "code",
   "execution_count": null,
   "id": "12b3ce93",
   "metadata": {},
   "outputs": [],
   "source": []
  }
 ],
 "metadata": {
  "kernelspec": {
   "display_name": "Python 3 (ipykernel)",
   "language": "python",
   "name": "python3"
  },
  "language_info": {
   "codemirror_mode": {
    "name": "ipython",
    "version": 3
   },
   "file_extension": ".py",
   "mimetype": "text/x-python",
   "name": "python",
   "nbconvert_exporter": "python",
   "pygments_lexer": "ipython3",
   "version": "3.8.12"
  }
 },
 "nbformat": 4,
 "nbformat_minor": 5
}
