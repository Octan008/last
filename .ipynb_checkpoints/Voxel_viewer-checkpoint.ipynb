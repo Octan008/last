{
 "cells": [
  {
   "cell_type": "code",
   "execution_count": 19,
   "id": "90ea9d13",
   "metadata": {},
   "outputs": [],
   "source": [
    "import os\n",
    "import torch\n",
    "import torch.nn.functional as F\n",
    "import matplotlib.pyplot as plt\n",
    "\n",
    "# Util function for loading point clouds|\n",
    "\n",
    "import numpy as np\n",
    "\n",
    "# Data structures and functions for rendering\n",
    "from pytorch3d.structures import Pointclouds\n",
    "from pytorch3d.vis.plotly_vis import AxisArgs, plot_batch_individually, plot_scene\n",
    "from pytorch3d.renderer import (\n",
    "    look_at_view_transform,\n",
    "    FoVOrthographicCameras, \n",
    "    PointsRasterizationSettings,\n",
    "    PointsRenderer,\n",
    "    PulsarPointsRenderer,\n",
    "    PointsRasterizer,\n",
    "    AlphaCompositor,\n",
    "    NormWeightedCompositor\n",
    ")\n",
    "# Setup\n",
    "if torch.cuda.is_available():\n",
    "    device = torch.device(\"cuda:0\")\n",
    "    torch.cuda.set_device(device)\n",
    "else:\n",
    "    device = torch.device(\"cpu\")\n"
   ]
  },
  {
   "cell_type": "code",
   "execution_count": 20,
   "id": "017672fb",
   "metadata": {},
   "outputs": [
    {
     "name": "stdout",
     "output_type": "stream",
     "text": [
      "cuda:0\n"
     ]
    }
   ],
   "source": [
    "print(device)"
   ]
  },
  {
   "cell_type": "code",
   "execution_count": 49,
   "id": "b4796e21",
   "metadata": {},
   "outputs": [],
   "source": [
    "import math"
   ]
  },
  {
   "cell_type": "code",
   "execution_count": 55,
   "id": "85e18ca0",
   "metadata": {},
   "outputs": [
    {
     "name": "stdout",
     "output_type": "stream",
     "text": [
      "tensor(200.) tensor(1.)\n",
      "tensor(1.) tensor(0.0050)\n"
     ]
    },
    {
     "name": "stderr",
     "output_type": "stream",
     "text": [
      "Clipping input data to the valid range for imshow with RGB data ([0..1] for floats or [0..255] for integers).\n",
      "Clipping input data to the valid range for imshow with RGB data ([0..1] for floats or [0..255] for integers).\n",
      "Clipping input data to the valid range for imshow with RGB data ([0..1] for floats or [0..255] for integers).\n",
      "Clipping input data to the valid range for imshow with RGB data ([0..1] for floats or [0..255] for integers).\n",
      "Clipping input data to the valid range for imshow with RGB data ([0..1] for floats or [0..255] for integers).\n",
      "Clipping input data to the valid range for imshow with RGB data ([0..1] for floats or [0..255] for integers).\n"
     ]
    },
    {
     "name": "stdout",
     "output_type": "stream",
     "text": [
      "points torch.Size([200, 200, 200, 20]) torch.Size([200, 200, 200, 3])\n",
      "tensor(1., device='cuda:0') tensor(0.0050, device='cuda:0')\n",
      "0\n",
      "torch.Size([200, 200, 200, 3])\n",
      "10\n",
      "torch.Size([200, 200, 200, 3])\n",
      "20\n",
      "torch.Size([200, 200, 200, 3])\n",
      "30\n",
      "torch.Size([200, 200, 200, 3])\n",
      "40\n",
      "torch.Size([200, 200, 200, 3])\n",
      "50\n",
      "torch.Size([200, 200, 200, 3])\n",
      "60\n",
      "torch.Size([200, 200, 200, 3])\n"
     ]
    },
    {
     "name": "stderr",
     "output_type": "stream",
     "text": [
      "Clipping input data to the valid range for imshow with RGB data ([0..1] for floats or [0..255] for integers).\n",
      "Clipping input data to the valid range for imshow with RGB data ([0..1] for floats or [0..255] for integers).\n",
      "Clipping input data to the valid range for imshow with RGB data ([0..1] for floats or [0..255] for integers).\n",
      "Clipping input data to the valid range for imshow with RGB data ([0..1] for floats or [0..255] for integers).\n"
     ]
    },
    {
     "name": "stdout",
     "output_type": "stream",
     "text": [
      "70\n",
      "torch.Size([200, 200, 200, 3])\n",
      "80\n",
      "torch.Size([200, 200, 200, 3])\n",
      "90\n",
      "torch.Size([200, 200, 200, 3])\n",
      "100\n",
      "torch.Size([200, 200, 200, 3])\n",
      "110\n",
      "torch.Size([200, 200, 200, 3])\n",
      "120\n",
      "torch.Size([200, 200, 200, 3])\n",
      "130\n",
      "torch.Size([200, 200, 200, 3])\n"
     ]
    },
    {
     "name": "stderr",
     "output_type": "stream",
     "text": [
      "Clipping input data to the valid range for imshow with RGB data ([0..1] for floats or [0..255] for integers).\n",
      "Clipping input data to the valid range for imshow with RGB data ([0..1] for floats or [0..255] for integers).\n",
      "Clipping input data to the valid range for imshow with RGB data ([0..1] for floats or [0..255] for integers).\n",
      "Clipping input data to the valid range for imshow with RGB data ([0..1] for floats or [0..255] for integers).\n",
      "Clipping input data to the valid range for imshow with RGB data ([0..1] for floats or [0..255] for integers).\n",
      "Clipping input data to the valid range for imshow with RGB data ([0..1] for floats or [0..255] for integers).\n",
      "Clipping input data to the valid range for imshow with RGB data ([0..1] for floats or [0..255] for integers).\n"
     ]
    },
    {
     "name": "stdout",
     "output_type": "stream",
     "text": [
      "140\n",
      "torch.Size([200, 200, 200, 3])\n",
      "150\n",
      "torch.Size([200, 200, 200, 3])\n",
      "160\n",
      "torch.Size([200, 200, 200, 3])\n",
      "170\n",
      "torch.Size([200, 200, 200, 3])\n",
      "180\n",
      "torch.Size([200, 200, 200, 3])\n",
      "190\n",
      "torch.Size([200, 200, 200, 3])\n"
     ]
    },
    {
     "data": {
      "image/png": "[encoded data removed]",
      "text/plain": [
       "<Figure size 720x720 with 20 Axes>"
      ]
     },
     "metadata": {
      "needs_background": "light"
     },
     "output_type": "display_data"
    }
   ],
   "source": [
    "gridsize = 200\n",
    "\n",
    "g = torch.arange(gridsize)+1\n",
    "# print(g)\n",
    "\n",
    "box = torch.ones(gridsize,gridsize,gridsize,3)\n",
    "# print(box[...,0].shape, x.unsqueeze(0).unsqueeze(-1).shape)\n",
    "box[...,0] *= g.unsqueeze(0).unsqueeze(0).repeat(gridsize, gridsize, 1)\n",
    "box[...,1] *= g.unsqueeze(0).unsqueeze(-1).repeat(gridsize, 1, gridsize)\n",
    "box[...,2] *= g.unsqueeze(-1).unsqueeze(-1).repeat(1, gridsize, gridsize)\n",
    "print(torch.max(box), torch.min(box))\n",
    "box /= gridsize\n",
    "print(torch.max(box), torch.min(box))\n",
    "# print(box)\n",
    "box = box.to(device)\n",
    "points = torch.load(\"/src/last/log/tensorf_anim_VM_tvloss-20221116-181846/bwfield_tensorf_anim_VM_tvloss.th\")\n",
    "print(\"points\", points.shape, box.shape)\n",
    "\n",
    "# Set paths\n",
    "DATA_DIR = \"./data\"\n",
    "obj_filename = os.path.join(DATA_DIR, \"PittsburghBridge/pointcloud.npz\")\n",
    "\n",
    "# Load point cloud\n",
    "import glob\n",
    "files = glob.glob(\"./data_point_cloud_*.npz\")\n",
    "\n",
    "# for obj_filename in files:\n",
    "pointcloud = np.load(obj_filename)\n",
    "\n",
    "# verts = torch.Tensor(pointcloud['verts']).to(device).reshape(-1, 3)\n",
    "# rgb = torch.Tensor(pointcloud['rgb']).to(device).reshape(-1, 4)\n",
    "# print(torch.max(verts), torch.min(verts\n",
    "loopsize = 20\n",
    "print(torch.max(box), torch.min(box))\n",
    "ims = []\n",
    "plt.figure(figsize=(10, 10))\n",
    "colorslice = 3\n",
    "with torch.no_grad():\n",
    "    for i in range(loopsize):\n",
    "        slice = int(gridsize * float(i/loopsize))\n",
    "        print(slice)\n",
    "#         print(torch.max(box), torch.min(box))\n",
    "        print(box.shape)\n",
    "#         view_box = box[slice:slice+1,:,:]\n",
    "#         view_points = points[slice:slice+1,:,:,:]*10\n",
    "        view_box = box[:,slice:slice+1,:]\n",
    "        view_points = points[:,slice:slice+1,:,:]*10\n",
    "        verts = ((view_box-0.5) ).reshape(-1, 3)\n",
    "        ones = torch.ones_like(view_box[...,0]).unsqueeze(-1)\n",
    "#         print(view_box.shape, ones.shape)\n",
    "        rgb = torch.cat([view_points[...,colorslice:colorslice+3], ones], dim=3).reshape(-1, 4)\n",
    "        rgb_arr = []\n",
    "        vert_arr = []\n",
    "\n",
    "        vert_arr.append(verts)\n",
    "        rgb_arr.append(rgb)\n",
    "\n",
    "        point_cloud = Pointclouds(points=vert_arr, features=rgb_arr)\n",
    "\n",
    "\n",
    "        R, T = look_at_view_transform(dist = 300, elev = 90, azim = 0,  at=((0,0, 0),))\n",
    "\n",
    "        scale = 1\n",
    "        cameras = FoVOrthographicCameras(device=device, R=R, T=T, znear=0.01,scale_xyz=torch.tensor([[scale,scale, scale]]))\n",
    "\n",
    "        raster_settings = PointsRasterizationSettings(\n",
    "            image_size=512, \n",
    "            radius = 0.01,\n",
    "            points_per_pixel = 10\n",
    "        )\n",
    "\n",
    "\n",
    "        # Create a points renderer by compositing points using an alpha compositor (nearer points\n",
    "        # are weighted more heavily). See [1] for an explanation.\n",
    "        rasterizer = PointsRasterizer(cameras=cameras, raster_settings=raster_settings)\n",
    "        renderer = PointsRenderer(\n",
    "            rasterizer=rasterizer,\n",
    "            compositor=AlphaCompositor()\n",
    "        )\n",
    "        images = renderer(point_cloud)\n",
    "\n",
    "        plt.axis(\"off\");\n",
    "        plt.subplot(math.ceil(loopsize / 4),4,i+1)\n",
    "        plt.imshow(images[0, ..., :3].detach().cpu().numpy())\n",
    "#         im = \n",
    "#         ims.append(im)\n",
    "\n",
    "        "
   ]
  },
  {
   "cell_type": "code",
   "execution_count": 46,
   "id": "0f05d436",
   "metadata": {},
   "outputs": [],
   "source": [
    "import matplotlib.pyplot as plt\n",
    "import matplotlib.animation as animation\n",
    "ani = animation.ArtistAnimation(figi, ims, interval=100)\n",
    "plt.show()"
   ]
  },
  {
   "cell_type": "code",
   "execution_count": null,
   "id": "0084764d",
   "metadata": {},
   "outputs": [],
   "source": []
  }
 ],
 "metadata": {
  "kernelspec": {
   "display_name": "Python 3 (ipykernel)",
   "language": "python",
   "name": "python3"
  },
  "language_info": {
   "codemirror_mode": {
    "name": "ipython",
    "version": 3
   },
   "file_extension": ".py",
   "mimetype": "text/x-python",
   "name": "python",
   "nbconvert_exporter": "python",
   "pygments_lexer": "ipython3",
   "version": "3.8.12"
  }
 },
 "nbformat": 4,
 "nbformat_minor": 5
}
