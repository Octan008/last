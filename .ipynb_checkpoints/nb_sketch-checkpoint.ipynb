{
 "cells": [
  {
   "cell_type": "code",
   "execution_count": 1,
   "id": "193e489b",
   "metadata": {},
   "outputs": [],
   "source": [
    "import os\n",
    "import json"
   ]
  },
  {
   "cell_type": "code",
   "execution_count": 8,
   "id": "f3332e96",
   "metadata": {},
   "outputs": [
    {
     "data": {
      "text/plain": [
       "30"
      ]
     },
     "execution_count": 8,
     "metadata": {},
     "output_type": "execute_result"
    }
   ],
   "source": [
    "path = \"/src/last/data/nerf_synthetic/anim/transforms_test.json\"\n",
    "with open(path) as f:\n",
    "    d = json.load(f)\n",
    "len(d[\"frames\"])"
   ]
  },
  {
   "cell_type": "code",
   "execution_count": 12,
   "id": "e9554585",
   "metadata": {},
   "outputs": [
    {
     "name": "stdout",
     "output_type": "stream",
     "text": [
      "./train/r_0f_0\n",
      "./train/r_0f_98\n"
     ]
    }
   ],
   "source": [
    "for i in range(len(d[\"frames\"])):\n",
    "    print(d[\"frames\"][0][\"file_path\"])"
   ]
  },
  {
   "cell_type": "code",
   "execution_count": 2,
   "id": "d30f536f",
   "metadata": {},
   "outputs": [],
   "source": [
    "import os\n",
    "import torch\n",
    "import torch.nn.functional as F\n",
    "import matplotlib.pyplot as plt\n",
    "\n",
    "# Util function for loading point clouds|\n",
    "\n",
    "import numpy as np\n",
    "\n",
    "# Data structures and functions for rendering\n",
    "from pytorch3d.structures import Pointclouds\n",
    "from pytorch3d.vis.plotly_vis import AxisArgs, plot_batch_individually, plot_scene\n",
    "from pytorch3d.renderer import (\n",
    "    look_at_view_transform,\n",
    "    FoVOrthographicCameras, \n",
    "    PointsRasterizationSettings,\n",
    "    PointsRenderer,\n",
    "    PulsarPointsRenderer,\n",
    "    PointsRasterizer,\n",
    "    AlphaCompositor,\n",
    "    NormWeightedCompositor\n",
    ")\n",
    "# Setup\n",
    "if torch.cuda.is_available():\n",
    "    device = torch.device(\"cuda:0\")\n",
    "    torch.cuda.set_device(device)\n",
    "else:\n",
    "    device = torch.device(\"cpu\")\n"
   ]
  },
  {
   "cell_type": "code",
   "execution_count": 2,
   "id": "f828a112",
   "metadata": {},
   "outputs": [],
   "source": [
    "# a = torch.load(\"./log/tensorf_anim_VM_traintest48/tensorf_anim_VM_traintest48_sh_999.th\")\n",
    "# print(a.keys())\n",
    "# print(a[\"state_dict\"].keys())\n",
    "# print(a[\"state_dict\"][\"feats\"].shape)\n",
    "# print(a[\"state_dict\"][\"feats\"])"
   ]
  },
  {
   "cell_type": "code",
   "execution_count": null,
   "id": "62f67efa",
   "metadata": {},
   "outputs": [],
   "source": []
  },
  {
   "cell_type": "code",
   "execution_count": 28,
   "id": "96db3127",
   "metadata": {},
   "outputs": [],
   "source": [
    "# # Initialize a camera.\n",
    "# # 0elev だと #Y up Z forward\n",
    "# # 90elevだと #Z up Y forward\n",
    "# #上からの絵がほしければ、elevで？\n",
    "\n",
    "# import glob\n",
    "# folder = \"npz_0906old\"\n",
    "# files = glob.glob(\"./\"+folder+\"/data_point_cloud_*.npz\")\n",
    "# rgb_arr = []\n",
    "# vert_arr = []\n",
    "# for obj_filename in files:\n",
    "#     pointcloud = np.load(obj_filename)\n",
    "#     verts = torch.Tensor(pointcloud['xyz_sampled']).to(device).reshape(-1, 3)\n",
    "#     print(pointcloud['sigma'].shape)\n",
    "#     sigma = torch.Tensor(pointcloud['sigma']).to(device).reshape(-1, 1)\n",
    "# #     sigma[...]  = 1\n",
    "# #     print(sigma)\n",
    "    \n",
    "#     rgb = torch.Tensor(pointcloud['rgb']).to(device).reshape(-1, 3)\n",
    "#     lightup = 1000\n",
    "#     rgb[...,0] *= lightup\n",
    "#     rgb[...,1] *= lightup\n",
    "#     rgb[...,2] *= lightup\n",
    "#     liftup = 0.3\n",
    "#     rgb[...,0] +=  liftup\n",
    "#     rgb[...,1] +=  liftup\n",
    "#     rgb[...,2] +=  liftup\n",
    "    \n",
    "# #     print(verts.shape, sigma.shape, rgb.shape)\n",
    "#     rgb = torch.cat([rgb, sigma], dim=-1)\n",
    "#     print(rgb.shape)\n",
    "#     vert_arr.append(verts)\n",
    "#     rgb_arr.append(rgb)\n",
    "\n",
    "# point_cloud = Pointclouds(points=vert_arr, features=rgb_arr)\n",
    "# R, T = look_at_view_transform(dist = 30, elev = 90, azim = 0,  at=((0, 0,0),))\n",
    "# # print(R,T)\n",
    "# scale = 0.2\n",
    "# cameras = FoVOrthographicCameras(device=device, R=R, T=T, znear=0.01,scale_xyz=torch.tensor([[scale,scale, scale]]))\n",
    "# # Define the settings for rasterization and shading. Here we set the output image to be of size\n",
    "# # 512x512. As we are rendering images for visualization purposes only we will set faces_per_pixel=1\n",
    "# # and blur_radius=0.0. Refer to raster_points.py for explanations of these parameters. \n",
    "# raster_settings = PointsRasterizationSettings(\n",
    "#     image_size=512, \n",
    "#     radius = 0.0005,\n",
    "#     points_per_pixel = 10\n",
    "# )\n",
    "\n",
    "\n",
    "# # Create a points renderer by compositing points using an alpha compositor (nearer points\n",
    "# # are weighted more heavily). See [1] for an explanation.\n",
    "# rasterizer = PointsRasterizer(cameras=cameras, raster_settings=raster_settings)\n",
    "# renderer = PointsRenderer(\n",
    "#     rasterizer=rasterizer,\n",
    "#     compositor=AlphaCompositor()\n",
    "# )\n",
    "# images = renderer(point_cloud)\n",
    "# plt.figure(figsize=(10, 10))\n",
    "# plt.imshow(images[0, ..., :3].cpu().numpy())\n",
    "# plt.axis(\"off\");"
   ]
  },
  {
   "cell_type": "code",
   "execution_count": 3,
   "id": "3092aa78",
   "metadata": {},
   "outputs": [],
   "source": [
    "# # Initialize a camera.\n",
    "# # 0elev だと #Y up Z forward\n",
    "# # 90elevだと #Z up Y forward\n",
    "# #上からの絵がほしければ、elevで？\n",
    "\n",
    "# import glob\n",
    "# folder = \"npz_50_12\"\n",
    "# files = glob.glob(\"./\"+folder+\"/data_point_cloud_*.npz\")\n",
    "# rgb_arr = []\n",
    "# vert_arr = []\n",
    "# for obj_filename in files:\n",
    "#     pointcloud = np.load(obj_filename)\n",
    "    \n",
    "#     verts = torch.Tensor(pointcloud['xyz_sampled']).to(device).reshape(-1, 3)\n",
    "    \n",
    "#     weights = pointcloud[\"weights\"]\n",
    "#     print(\"weights\", weights[:verts.shape[0]].shape)\n",
    "    \n",
    "#     print(\"verts.shape\", verts.shape)\n",
    "#     print(torch.max(verts[...,0]),torch. max(verts[...,1]), torch.max(verts[...,2]))\n",
    "#     print(torch.min(verts[...,0]), torch.min(verts[...,1]),torch. min(verts[...,2]))\n",
    "#     mask = verts[...,2] < 0\n",
    "    \n",
    "#     print(pointcloud['sigma'].shape)\n",
    "#     sigma = torch.Tensor(pointcloud['sigma']).to(device).reshape(-1, 1)\n",
    "#     #sigma[...]  = 1\n",
    "#     #sigma[mask] = 0\n",
    "#     sigma[...] = 0\n",
    "    \n",
    "#     rgb = torch.Tensor(pointcloud['rgb']).to(device).reshape(-1, 3)\n",
    "#     lightup = 1\n",
    "#     rgb[...,0] = torch.tensor(weights[:verts.shape[0]][...,1])\n",
    "#     rgb[...,0] *= lightup\n",
    "#     rgb[...,1] = 0\n",
    "#     rgb[...,2] = 1\n",
    "#     liftup = 1\n",
    "#     shift = 0.7\n",
    "    \n",
    "#     rgb = torch.cat([rgb, sigma], dim=-1)\n",
    "#     vert_arr.append(verts)\n",
    "#     rgb_arr.append(rgb)\n",
    "\n",
    "# point_cloud = Pointclouds(points=vert_arr, features=rgb_arr)\n",
    "# R, T = look_at_view_transform(dist = 30, elev = 90, azim = 0,  at=((0, 0,0),))\n",
    "# print(R,T)\n",
    "# scale = 0.2\n",
    "# cameras = FoVOrthographicCameras(device=device, R=R, T=T, znear=0.01,scale_xyz=torch.tensor([[scale,scale, scale]]))\n",
    "\n",
    "# raster_settings = PointsRasterizationSettings(\n",
    "#     image_size=512, \n",
    "#     radius = 0.0005,\n",
    "#     points_per_pixel = 10\n",
    "# )\n",
    "\n",
    "\n",
    "\n",
    "# # Create a points renderer by compositing points using an alpha compositor (nearer points\n",
    "# # are weighted more heavily). See [1] for an explanation.\n",
    "# rasterizer = PointsRasterizer(cameras=cameras, raster_settings=raster_settings)\n",
    "# renderer = PointsRenderer(\n",
    "#     rasterizer=rasterizer,\n",
    "#     compositor=AlphaCompositor()\n",
    "# )\n",
    "# images = renderer(point_cloud)\n",
    "# plt.figure(figsize=(10, 10))\n",
    "# plt.imshow(images[0, ..., :3].cpu().numpy())\n",
    "# plt.axis(\"off\")"
   ]
  },
  {
   "cell_type": "code",
   "execution_count": 4,
   "id": "229072b3",
   "metadata": {},
   "outputs": [
    {
     "name": "stdout",
     "output_type": "stream",
     "text": [
      "tensor([[[0.9726, 0.0000]],\n",
      "\n",
      "        [[0.0323, 0.0000]],\n",
      "\n",
      "        [[0.4310, 0.0000]],\n",
      "\n",
      "        [[0.3612, 0.0000]],\n",
      "\n",
      "        [[0.4643, 0.0000]],\n",
      "\n",
      "        [[0.5647, 0.0000]]]) tensor([[[0.7372, 0.0000]],\n",
      "\n",
      "        [[0.3742, 0.0000]],\n",
      "\n",
      "        [[0.7372, 0.0000]],\n",
      "\n",
      "        [[0.3742, 0.0000]],\n",
      "\n",
      "        [[0.7372, 0.0000]],\n",
      "\n",
      "        [[0.3742, 0.0000]]])\n"
     ]
    }
   ],
   "source": [
    "# print(torch.rand(2,3))\n",
    "samples = 3\n",
    "joints = 2\n",
    "divs = 2\n",
    "\n",
    "sh_mult = torch.rand(samples*joints, 1, divs)\n",
    "sh_mult[:,:,1:] = 0.0\n",
    "\n",
    "sh_feats = torch.rand(joints, divs)\n",
    "sh_feats[:, 1:] = 0.0\n",
    "#sh_feats[0,:] = 0.0;\n",
    "\n",
    "rad_sh = sh_feats.reshape(joints, 1, sh_mult.shape[-1])#(j, 1, 9)\n",
    "\n",
    "# print(sh_mult)\n",
    "# print()\n",
    "# print(sh_feats)\n",
    "# print()\n",
    "print(sh_mult , rad_sh.repeat(samples, 1, 1))\n",
    "# print(rad_sh.repeat(samples, 1, 1))\n",
    "# print()\n",
    "#↓sample*joints, 1, divs × samples*joints, 1, divs\n",
    "rads = torch.relu(torch.sum(sh_mult * rad_sh.repeat(samples, 1, 1), dim=-1))#(sample*j, 1) #jointのsample方向の経\n",
    "#そっかゼロではないのか\n",
    "# print(rads)\n",
    "#rads = rads.reshape(joints, samples)#(j, sample) #ここか\n",
    "rads = torch.transpose(rads.reshape(samples, joints), 0, 1)\n",
    "# print(rads)\n",
    "# print(rads[:,0])"
   ]
  },
  {
   "cell_type": "markdown",
   "id": "efba7e0b",
   "metadata": {},
   "source": [
    "# 点群表示の元デモ"
   ]
  },
  {
   "cell_type": "code",
   "execution_count": 1,
   "id": "21ce1f70",
   "metadata": {},
   "outputs": [
    {
     "name": "stdout",
     "output_type": "stream",
     "text": [
      "torch.Size([438544, 4])\n"
     ]
    }
   ],
   "source": [
    "import os\n",
    "import torch\n",
    "import torch.nn.functional as F\n",
    "import matplotlib.pyplot as plt\n",
    "\n",
    "# Util function for loading point clouds|\n",
    "import numpy as np\n",
    "\n",
    "# Data structures and functions for rendering\n",
    "from pytorch3d.structures import Pointclouds\n",
    "from pytorch3d.vis.plotly_vis import AxisArgs, plot_batch_individually, plot_scene\n",
    "from pytorch3d.renderer import (\n",
    "    look_at_view_transform,\n",
    "    FoVOrthographicCameras, \n",
    "    PointsRasterizationSettings,\n",
    "    PointsRenderer,\n",
    "    PulsarPointsRenderer,\n",
    "    PointsRasterizer,\n",
    "    AlphaCompositor,\n",
    "    NormWeightedCompositor\n",
    ")\n",
    "# Setup\n",
    "if torch.cuda.is_available():\n",
    "    device = torch.device(\"cuda:0\")\n",
    "    torch.cuda.set_device(device)\n",
    "else:\n",
    "    device = torch.device(\"cpu\")\n",
    "\n",
    "# Set paths\n",
    "DATA_DIR = \"./data\"\n",
    "obj_filename = os.path.join(DATA_DIR, \"PittsburghBridge/pointcloud.npz\")\n",
    "\n",
    "# Load point cloud\n",
    "import glob\n",
    "files = glob.glob(\"./data_point_cloud_*.npz\")\n",
    "rgb_arr = []\n",
    "vert_arr = []\n",
    "# for obj_filename in files:\n",
    "pointcloud = np.load(obj_filename)\n",
    "verts = torch.Tensor(pointcloud['verts']).to(device).reshape(-1, 3)\n",
    "#     print(pointcloud['sigma'].shape)\n",
    "#     sigma = torch.Tensor(pointcloud['sigma']).to(device).reshape(-1, 1)\n",
    "    \n",
    "rgb = torch.Tensor(pointcloud['rgb']).to(device).reshape(-1, 4)\n",
    "#     print(verts.shape, sigma.shape, rgb.shape)\n",
    "#     rgb = torch.cat([rgb, sigma], dim=-1)\n",
    "print(rgb.shape)\n",
    "vert_arr.append(verts)\n",
    "rgb_arr.append(rgb)\n",
    "\n",
    "point_cloud = Pointclouds(points=vert_arr, features=rgb_arr)"
   ]
  },
  {
   "cell_type": "code",
   "execution_count": 2,
   "id": "8e03dba9",
   "metadata": {},
   "outputs": [
    {
     "name": "stdout",
     "output_type": "stream",
     "text": [
      "tensor(-0.9588, device='cuda:0') tensor(-0.5897, device='cuda:0') tensor(0.3987, device='cuda:0')\n",
      "tensor(0.8793, device='cuda:0') tensor(-0.1313, device='cuda:0') tensor(2.2398, device='cuda:0')\n"
     ]
    }
   ],
   "source": [
    "print(torch.min(vert_arr[0][...,0]), torch.min(vert_arr[0][...,1]), torch.min(vert_arr[0][...,2]))\n",
    "\n",
    "# print(torch.min(vert_arr[1][...,0]), torch.min(vert_arr[1][...,1]), torch.min(vert_arr[1][...,2]))\n",
    "\n",
    "print(torch.max(vert_arr[0][...,0]), torch.max(vert_arr[0][...,1]), torch.max(vert_arr[0][...,2]))\n",
    "\n",
    "# print(torch.max(vert_arr[1][...,0]), torch.max(vert_arr[1][...,1]), torch.max(vert_arr[1][...,2]))"
   ]
  },
  {
   "cell_type": "code",
   "execution_count": 3,
   "id": "539a5c31",
   "metadata": {},
   "outputs": [
    {
     "name": "stdout",
     "output_type": "stream",
     "text": [
      "tensor([[[-1.,  0.,  0.],\n",
      "         [ 0.,  1.,  0.],\n",
      "         [ 0.,  0., -1.]]]) tensor([[   -0.,    -0., 30000.]])\n"
     ]
    },
    {
     "data": {
      "image/png": "[encoded data removed]",
      "text/plain": [
       "<Figure size 720x720 with 1 Axes>"
      ]
     },
     "metadata": {
      "needs_background": "light"
     },
     "output_type": "display_data"
    }
   ],
   "source": [
    "# Initialize a camera.\n",
    "#Y up Z forward\n",
    "R, T = look_at_view_transform(dist = 30000, elev = 0, azim = 0,  at=((0,0, 0),))\n",
    "print(R,T)\n",
    "scale = 1\n",
    "cameras = FoVOrthographicCameras(device=device, R=R, T=T, znear=0.01,scale_xyz=torch.tensor([[scale,scale, scale]]))\n",
    "# print(cameras.get_image_size())\n",
    "# Define the settings for rasterization and shading. Here we set the output image to be of size\n",
    "# 512x512. As we are rendering images for visualization purposes only we will set faces_per_pixel=1\n",
    "# and blur_radius=0.0. Refer to raster_points.py for explanations of these parameters. \n",
    "raster_settings = PointsRasterizationSettings(\n",
    "    image_size=512, \n",
    "    radius = 0.03,\n",
    "    points_per_pixel = 10\n",
    ")\n",
    "\n",
    "\n",
    "# Create a points renderer by compositing points using an alpha compositor (nearer points\n",
    "# are weighted more heavily). See [1] for an explanation.\n",
    "rasterizer = PointsRasterizer(cameras=cameras, raster_settings=raster_settings)\n",
    "renderer = PointsRenderer(\n",
    "    rasterizer=rasterizer,\n",
    "    compositor=AlphaCompositor()\n",
    ")\n",
    "images = renderer(point_cloud)\n",
    "plt.figure(figsize=(10, 10))\n",
    "plt.imshow(images[0, ..., :3].cpu().numpy())\n",
    "plt.axis(\"off\");"
   ]
  },
  {
   "cell_type": "code",
   "execution_count": null,
   "id": "f1de53a0",
   "metadata": {},
   "outputs": [],
   "source": []
  },
  {
   "cell_type": "code",
   "execution_count": 1,
   "id": "df51f09f",
   "metadata": {},
   "outputs": [],
   "source": [
    "# import glob\n",
    "# import torch\n",
    "# path = \"./log/tensorf_anim_VM_traintest18/tensorf_anim_VM_traintest18_sh*.th\"\n",
    "# paths = glob.glob(path)\n",
    "# # print(paths)\n",
    "\n",
    "# # for p in paths:\n",
    "# #     t = torch.load(p)\n",
    "# #     print(t)\n",
    "# #     print(t[\"state_dict\"].keys())\n",
    "# #     print()\n",
    "# # paths[-2]\n",
    "# print(paths[0])\n",
    "# t = torch.load(paths[500])\n",
    "# # t[\"feats\"]\n",
    "# feats = t[\"state_dict\"][\"feats\"].to(\"cpu\")\n",
    "# print(t)"
   ]
  },
  {
   "cell_type": "code",
   "execution_count": 2,
   "id": "5d617877",
   "metadata": {},
   "outputs": [],
   "source": [
    "# import numpy as np\n",
    "# from ipygany import Scene, PolyMesh\n",
    "# from vedo import *\n",
    "# # import torch\n",
    "# from nerf.render_util import *\n",
    "# from models.sh import eval_sh_bases\n",
    "\n",
    "# scale = 0.01\n",
    "\n",
    "\n",
    "# animation_conf=\"./data/nerf_synthetic/anim\"+\"/transforms.json\"\n",
    "# skeleton =  make_joints_from_blender(animation_conf)\n",
    "# joint_positions =skeleton.get_listed_positions().to(\"cpu\")\n",
    "# # print(joint_positions)\n",
    "# # \n",
    "# meshes = []\n",
    "# sph = Sphere(pos=(0,0,0), r=10, c='r4', alpha=0, res=12, quads=False)\n",
    "# # points = np.array(sph.points())\n",
    "# # faces = np.array(sph.faces())\n",
    "# points = torch.tensor(sph.points()) * scale\n",
    "# faces = torch.tensor(sph.faces())\n",
    "\n",
    "\n",
    "# mesh = PolyMesh(\n",
    "#     vertices=points,\n",
    "#     triangle_indices=faces\n",
    "# )\n",
    "# mesh.default_color = \"#999999\"\n",
    "# meshes.append(mesh)\n",
    "\n",
    "# for i, p in enumerate( joint_positions):\n",
    "\n",
    "#     sph = Sphere(pos=(0,0,0), r=0.1, c='r5', alpha=1, res=12, quads=False)\n",
    "#     # points = np.array(sph.points())\n",
    "#     # faces = np.array(sph.faces())\n",
    "#     positions = torch.tensor(sph.points())\n",
    "#     positions = apply_sh(positions, feats[i])\n",
    "#     positions = positions + p\n",
    "#     points = (positions) * scale\n",
    "# #     points = apply_sh(points)\n",
    "#     faces = torch.tensor(sph.faces())\n",
    "\n",
    "\n",
    "#     mesh = PolyMesh(\n",
    "#         vertices=points,\n",
    "#         triangle_indices=faces\n",
    "#     )\n",
    "#     meshes.append(mesh)\n",
    "    \n",
    "# # mesh2 = PolyMesh(\n",
    "# #     vertices=points+np.array([1,1,1]),\n",
    "# #     triangle_indices=faces\n",
    "# # )\n",
    "# print(len(meshes))\n",
    "# scene = Scene(meshes)\n",
    "# scene"
   ]
  },
  {
   "cell_type": "code",
   "execution_count": 3,
   "id": "d69f6245",
   "metadata": {},
   "outputs": [],
   "source": [
    "# def apply_sh(points, sh_feats= torch.zeros(9)):\n",
    "#     sh_mult = eval_sh_bases(2, points)\n",
    "#     rad_sh = sh_feats\n",
    "#     rads = torch.relu(torch.sum(sh_mult * rad_sh.repeat(points.shape[0], 1), dim=-1) + 0.5)#(sample*j, 1)\n",
    "# #     print(rads)\n",
    "#     return rads.unsqueeze(-1)* points"
   ]
  },
  {
   "cell_type": "code",
   "execution_count": 4,
   "id": "a8e2eb4c",
   "metadata": {},
   "outputs": [],
   "source": [
    "# from pytorch3d.structures import Pointclouds"
   ]
  },
  {
   "cell_type": "code",
   "execution_count": 5,
   "id": "6fcfae11",
   "metadata": {},
   "outputs": [],
   "source": [
    "# !mkdir -p data/PittsburghBridge\n",
    "# !wget -P data/PittsburghBridge https://dl.fbaipublicfiles.com/pytorch3d/data/PittsburghBridge/pointcloud.npz"
   ]
  },
  {
   "cell_type": "code",
   "execution_count": null,
   "id": "0f26e211",
   "metadata": {},
   "outputs": [],
   "source": []
  }
 ],
 "metadata": {
  "kernelspec": {
   "display_name": "Python 3 (ipykernel)",
   "language": "python",
   "name": "python3"
  },
  "language_info": {
   "codemirror_mode": {
    "name": "ipython",
    "version": 3
   },
   "file_extension": ".py",
   "mimetype": "text/x-python",
   "name": "python",
   "nbconvert_exporter": "python",
   "pygments_lexer": "ipython3",
   "version": "3.8.12"
  }
 },
 "nbformat": 4,
 "nbformat_minor": 5
}
