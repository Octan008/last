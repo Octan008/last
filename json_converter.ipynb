{
 "cells": [
  {
   "cell_type": "code",
   "execution_count": 1,
   "id": "edada674",
   "metadata": {},
   "outputs": [],
   "source": [
    "path = \"/src/last/data/nerf_synthetic/anim/transforms_train.json\"\n",
    "out_path =  \"/src/last/data/nerf_synthetic/anim/transforms_train_modified.json\""
   ]
  },
  {
   "cell_type": "code",
   "execution_count": 15,
   "id": "2dc9537d",
   "metadata": {},
   "outputs": [],
   "source": [
    "import json\n",
    "import matplotlib.pyplot as plt"
   ]
  },
  {
   "cell_type": "code",
   "execution_count": 3,
   "id": "761fd00e",
   "metadata": {},
   "outputs": [
    {
     "name": "stdout",
     "output_type": "stream",
     "text": [
      "4\n"
     ]
    }
   ],
   "source": [
    "with open(path) as f:\n",
    "    s = f.read()\n",
    "    data = json.loads(s)\n",
    "print(len(data))"
   ]
  },
  {
   "cell_type": "code",
   "execution_count": 4,
   "id": "a3ce2b50",
   "metadata": {},
   "outputs": [
    {
     "data": {
      "text/plain": [
       "5"
      ]
     },
     "execution_count": 4,
     "metadata": {},
     "output_type": "execute_result"
    }
   ],
   "source": [
    "len(data[\"frames\"][0].keys())"
   ]
  },
  {
   "cell_type": "code",
   "execution_count": 5,
   "id": "f618b928",
   "metadata": {},
   "outputs": [
    {
     "data": {
      "text/plain": [
       "dict_keys(['file_path', 'rotation', 'transform_matrix', 'animation', 'anim_frame'])"
      ]
     },
     "execution_count": 5,
     "metadata": {},
     "output_type": "execute_result"
    }
   ],
   "source": [
    "data[\"frames\"][0][\"anim_frame\"]\n",
    "data[\"frames\"][0].keys()"
   ]
  },
  {
   "cell_type": "code",
   "execution_count": 28,
   "id": "a1a4635b",
   "metadata": {},
   "outputs": [
    {
     "name": "stdout",
     "output_type": "stream",
     "text": [
      "4\n",
      "101 ./train/r_6f_77  // anim_frame 11\n",
      "251 ./train/r_16f_77  // anim_frame 11\n"
     ]
    },
    {
     "data": {
      "image/png": "[encoded data removed]",
      "text/plain": [
       "<Figure size 432x288 with 1 Axes>"
      ]
     },
     "metadata": {
      "needs_background": "light"
     },
     "output_type": "display_data"
    },
    {
     "data": {
      "image/png": "[encoded data removed]",
      "text/plain": [
       "<Figure size 432x288 with 1 Axes>"
      ]
     },
     "metadata": {
      "needs_background": "light"
     },
     "output_type": "display_data"
    }
   ],
   "source": [
    "from PIL import Image, ImageFilter\n",
    "%matplotlib inline\n",
    "with open(path) as f:\n",
    "    s = f.read()\n",
    "    data = json.loads(s)\n",
    "print(len(data))\n",
    "\n",
    "for i, frame in enumerate(data[\"frames\"]):   \n",
    "    if i in [101, 251]:\n",
    "        plt.figure()\n",
    "        im = Image.open('/src/last/data/nerf_synthetic/anim/'+ frame[\"file_path\"]+'.png')\n",
    "        print(i, frame[\"file_path\"], \" // anim_frame\",  frame[\"anim_frame\"])\n",
    "        plt.imshow(im)\n",
    "plt.show()\n"
   ]
  },
  {
   "cell_type": "code",
   "execution_count": 30,
   "id": "be9159de",
   "metadata": {},
   "outputs": [
    {
     "name": "stdout",
     "output_type": "stream",
     "text": [
      "0 ./train/r_0f_0 0\n",
      "1 ./train/r_0f_7 1\n",
      "2 ./train/r_0f_14 2\n",
      "3 ./train/r_0f_21 3\n",
      "4 ./train/r_0f_28 4\n",
      "5 ./train/r_0f_35 5\n",
      "6 ./train/r_0f_42 6\n",
      "7 ./train/r_0f_49 7\n",
      "8 ./train/r_0f_56 8\n",
      "9 ./train/r_0f_63 9\n",
      "10 ./train/r_0f_70 10\n",
      "11 ./train/r_0f_77 11\n",
      "12 ./train/r_0f_84 12\n",
      "13 ./train/r_0f_91 13\n",
      "14 ./train/r_0f_98 14\n",
      "15 ./train/r_1f_0 0\n",
      "16 ./train/r_1f_7 1\n",
      "17 ./train/r_1f_14 2\n",
      "18 ./train/r_1f_21 3\n",
      "19 ./train/r_1f_28 4\n",
      "20 ./train/r_1f_35 5\n",
      "21 ./train/r_1f_42 6\n",
      "22 ./train/r_1f_49 7\n",
      "23 ./train/r_1f_56 8\n",
      "24 ./train/r_1f_63 9\n",
      "25 ./train/r_1f_70 10\n",
      "26 ./train/r_1f_77 11\n",
      "27 ./train/r_1f_84 12\n",
      "28 ./train/r_1f_91 13\n",
      "29 ./train/r_1f_98 14\n",
      "30 ./train/r_2f_0 0\n",
      "31 ./train/r_2f_7 1\n",
      "32 ./train/r_2f_14 2\n",
      "33 ./train/r_2f_21 3\n",
      "34 ./train/r_2f_28 4\n",
      "35 ./train/r_2f_35 5\n",
      "36 ./train/r_2f_42 6\n",
      "37 ./train/r_2f_49 7\n",
      "38 ./train/r_2f_56 8\n",
      "39 ./train/r_2f_63 9\n",
      "40 ./train/r_2f_70 10\n",
      "41 ./train/r_2f_77 11\n",
      "42 ./train/r_2f_84 12\n",
      "43 ./train/r_2f_91 13\n",
      "44 ./train/r_2f_98 14\n",
      "45 ./train/r_3f_0 0\n",
      "46 ./train/r_3f_7 1\n",
      "47 ./train/r_3f_14 2\n",
      "48 ./train/r_3f_21 3\n",
      "49 ./train/r_3f_28 4\n",
      "50 ./train/r_3f_35 5\n",
      "51 ./train/r_3f_42 6\n",
      "52 ./train/r_3f_49 7\n",
      "53 ./train/r_3f_56 8\n",
      "54 ./train/r_3f_63 9\n",
      "55 ./train/r_3f_70 10\n",
      "56 ./train/r_3f_77 11\n",
      "57 ./train/r_3f_84 12\n",
      "58 ./train/r_3f_91 13\n",
      "59 ./train/r_3f_98 14\n",
      "60 ./train/r_4f_0 0\n",
      "61 ./train/r_4f_7 1\n",
      "62 ./train/r_4f_14 2\n",
      "63 ./train/r_4f_21 3\n",
      "64 ./train/r_4f_28 4\n",
      "65 ./train/r_4f_35 5\n",
      "66 ./train/r_4f_42 6\n",
      "67 ./train/r_4f_49 7\n",
      "68 ./train/r_4f_56 8\n",
      "69 ./train/r_4f_63 9\n",
      "70 ./train/r_4f_70 10\n",
      "71 ./train/r_4f_77 11\n",
      "72 ./train/r_4f_84 12\n",
      "73 ./train/r_4f_91 13\n",
      "74 ./train/r_4f_98 14\n",
      "75 ./train/r_5f_0 0\n",
      "76 ./train/r_5f_7 1\n",
      "77 ./train/r_5f_14 2\n",
      "78 ./train/r_5f_21 3\n",
      "79 ./train/r_5f_28 4\n",
      "80 ./train/r_5f_35 5\n",
      "81 ./train/r_5f_42 6\n",
      "82 ./train/r_5f_49 7\n",
      "83 ./train/r_5f_56 8\n",
      "84 ./train/r_5f_63 9\n",
      "85 ./train/r_5f_70 10\n",
      "86 ./train/r_5f_77 11\n",
      "87 ./train/r_5f_84 12\n",
      "88 ./train/r_5f_91 13\n",
      "89 ./train/r_5f_98 14\n",
      "90 ./train/r_6f_0 0\n",
      "91 ./train/r_6f_7 1\n",
      "92 ./train/r_6f_14 2\n",
      "93 ./train/r_6f_21 3\n",
      "94 ./train/r_6f_28 4\n",
      "95 ./train/r_6f_35 5\n",
      "96 ./train/r_6f_42 6\n",
      "97 ./train/r_6f_49 7\n",
      "98 ./train/r_6f_56 8\n",
      "99 ./train/r_6f_63 9\n",
      "100 ./train/r_6f_70 10\n",
      "101 ./train/r_6f_77 11\n",
      "102 ./train/r_6f_84 12\n",
      "103 ./train/r_6f_91 13\n",
      "104 ./train/r_6f_98 14\n",
      "105 ./train/r_7f_0 0\n",
      "106 ./train/r_7f_7 1\n",
      "107 ./train/r_7f_14 2\n",
      "108 ./train/r_7f_21 3\n",
      "109 ./train/r_7f_28 4\n",
      "110 ./train/r_7f_35 5\n",
      "111 ./train/r_7f_42 6\n",
      "112 ./train/r_7f_49 7\n",
      "113 ./train/r_7f_56 8\n",
      "114 ./train/r_7f_63 9\n",
      "115 ./train/r_7f_70 10\n",
      "116 ./train/r_7f_77 11\n",
      "117 ./train/r_7f_84 12\n",
      "118 ./train/r_7f_91 13\n",
      "119 ./train/r_7f_98 14\n",
      "120 ./train/r_8f_0 0\n",
      "121 ./train/r_8f_7 1\n",
      "122 ./train/r_8f_14 2\n",
      "123 ./train/r_8f_21 3\n",
      "124 ./train/r_8f_28 4\n",
      "125 ./train/r_8f_35 5\n",
      "126 ./train/r_8f_42 6\n",
      "127 ./train/r_8f_49 7\n",
      "128 ./train/r_8f_56 8\n",
      "129 ./train/r_8f_63 9\n",
      "130 ./train/r_8f_70 10\n",
      "131 ./train/r_8f_77 11\n",
      "132 ./train/r_8f_84 12\n",
      "133 ./train/r_8f_91 13\n",
      "134 ./train/r_8f_98 14\n",
      "135 ./train/r_9f_0 0\n",
      "136 ./train/r_9f_7 1\n",
      "137 ./train/r_9f_14 2\n",
      "138 ./train/r_9f_21 3\n",
      "139 ./train/r_9f_28 4\n",
      "140 ./train/r_9f_35 5\n",
      "141 ./train/r_9f_42 6\n",
      "142 ./train/r_9f_49 7\n",
      "143 ./train/r_9f_56 8\n",
      "144 ./train/r_9f_63 9\n",
      "145 ./train/r_9f_70 10\n",
      "146 ./train/r_9f_77 11\n",
      "147 ./train/r_9f_84 12\n",
      "148 ./train/r_9f_91 13\n",
      "149 ./train/r_9f_98 14\n",
      "150 ./train/r_10f_0 0\n",
      "151 ./train/r_10f_7 1\n",
      "152 ./train/r_10f_14 2\n",
      "153 ./train/r_10f_21 3\n",
      "154 ./train/r_10f_28 4\n",
      "155 ./train/r_10f_35 5\n",
      "156 ./train/r_10f_42 6\n",
      "157 ./train/r_10f_49 7\n",
      "158 ./train/r_10f_56 8\n",
      "159 ./train/r_10f_63 9\n",
      "160 ./train/r_10f_70 10\n",
      "161 ./train/r_10f_77 11\n",
      "162 ./train/r_10f_84 12\n",
      "163 ./train/r_10f_91 13\n",
      "164 ./train/r_10f_98 14\n",
      "165 ./train/r_11f_0 0\n",
      "166 ./train/r_11f_7 1\n",
      "167 ./train/r_11f_14 2\n",
      "168 ./train/r_11f_21 3\n",
      "169 ./train/r_11f_28 4\n",
      "170 ./train/r_11f_35 5\n",
      "171 ./train/r_11f_42 6\n",
      "172 ./train/r_11f_49 7\n",
      "173 ./train/r_11f_56 8\n",
      "174 ./train/r_11f_63 9\n",
      "175 ./train/r_11f_70 10\n",
      "176 ./train/r_11f_77 11\n",
      "177 ./train/r_11f_84 12\n",
      "178 ./train/r_11f_91 13\n",
      "179 ./train/r_11f_98 14\n",
      "180 ./train/r_12f_0 0\n",
      "181 ./train/r_12f_7 1\n",
      "182 ./train/r_12f_14 2\n",
      "183 ./train/r_12f_21 3\n",
      "184 ./train/r_12f_28 4\n",
      "185 ./train/r_12f_35 5\n",
      "186 ./train/r_12f_42 6\n",
      "187 ./train/r_12f_49 7\n",
      "188 ./train/r_12f_56 8\n",
      "189 ./train/r_12f_63 9\n",
      "190 ./train/r_12f_70 10\n",
      "191 ./train/r_12f_77 11\n",
      "192 ./train/r_12f_84 12\n",
      "193 ./train/r_12f_91 13\n",
      "194 ./train/r_12f_98 14\n",
      "195 ./train/r_13f_0 0\n",
      "196 ./train/r_13f_7 1\n",
      "197 ./train/r_13f_14 2\n",
      "198 ./train/r_13f_21 3\n",
      "199 ./train/r_13f_28 4\n",
      "200 ./train/r_13f_35 5\n",
      "201 ./train/r_13f_42 6\n",
      "202 ./train/r_13f_49 7\n",
      "203 ./train/r_13f_56 8\n",
      "204 ./train/r_13f_63 9\n",
      "205 ./train/r_13f_70 10\n",
      "206 ./train/r_13f_77 11\n",
      "207 ./train/r_13f_84 12\n",
      "208 ./train/r_13f_91 13\n",
      "209 ./train/r_13f_98 14\n",
      "210 ./train/r_14f_0 0\n",
      "211 ./train/r_14f_7 1\n",
      "212 ./train/r_14f_14 2\n",
      "213 ./train/r_14f_21 3\n",
      "214 ./train/r_14f_28 4\n",
      "215 ./train/r_14f_35 5\n",
      "216 ./train/r_14f_42 6\n",
      "217 ./train/r_14f_49 7\n",
      "218 ./train/r_14f_56 8\n",
      "219 ./train/r_14f_63 9\n",
      "220 ./train/r_14f_70 10\n",
      "221 ./train/r_14f_77 11\n",
      "222 ./train/r_14f_84 12\n",
      "223 ./train/r_14f_91 13\n",
      "224 ./train/r_14f_98 14\n",
      "225 ./train/r_15f_0 0\n",
      "226 ./train/r_15f_7 1\n",
      "227 ./train/r_15f_14 2\n",
      "228 ./train/r_15f_21 3\n",
      "229 ./train/r_15f_28 4\n",
      "230 ./train/r_15f_35 5\n",
      "231 ./train/r_15f_42 6\n",
      "232 ./train/r_15f_49 7\n",
      "233 ./train/r_15f_56 8\n",
      "234 ./train/r_15f_63 9\n",
      "235 ./train/r_15f_70 10\n",
      "236 ./train/r_15f_77 11\n",
      "237 ./train/r_15f_84 12\n",
      "238 ./train/r_15f_91 13\n",
      "239 ./train/r_15f_98 14\n",
      "240 ./train/r_16f_0 0\n",
      "241 ./train/r_16f_7 1\n",
      "242 ./train/r_16f_14 2\n",
      "243 ./train/r_16f_21 3\n",
      "244 ./train/r_16f_28 4\n",
      "245 ./train/r_16f_35 5\n",
      "246 ./train/r_16f_42 6\n",
      "247 ./train/r_16f_49 7\n",
      "248 ./train/r_16f_56 8\n",
      "249 ./train/r_16f_63 9\n",
      "250 ./train/r_16f_70 10\n",
      "251 ./train/r_16f_77 11\n",
      "252 ./train/r_16f_84 12\n",
      "253 ./train/r_16f_91 13\n",
      "254 ./train/r_16f_98 14\n",
      "255 ./train/r_17f_0 0\n",
      "256 ./train/r_17f_7 1\n",
      "257 ./train/r_17f_14 2\n",
      "258 ./train/r_17f_21 3\n",
      "259 ./train/r_17f_28 4\n",
      "260 ./train/r_17f_35 5\n",
      "261 ./train/r_17f_42 6\n",
      "262 ./train/r_17f_49 7\n",
      "263 ./train/r_17f_56 8\n",
      "264 ./train/r_17f_63 9\n",
      "265 ./train/r_17f_70 10\n",
      "266 ./train/r_17f_77 11\n",
      "267 ./train/r_17f_84 12\n",
      "268 ./train/r_17f_91 13\n",
      "269 ./train/r_17f_98 14\n",
      "270 ./train/r_18f_0 0\n",
      "271 ./train/r_18f_7 1\n",
      "272 ./train/r_18f_14 2\n",
      "273 ./train/r_18f_21 3\n",
      "274 ./train/r_18f_28 4\n",
      "275 ./train/r_18f_35 5\n",
      "276 ./train/r_18f_42 6\n",
      "277 ./train/r_18f_49 7\n",
      "278 ./train/r_18f_56 8\n",
      "279 ./train/r_18f_63 9\n",
      "280 ./train/r_18f_70 10\n",
      "281 ./train/r_18f_77 11\n",
      "282 ./train/r_18f_84 12\n",
      "283 ./train/r_18f_91 13\n",
      "284 ./train/r_18f_98 14\n",
      "285 ./train/r_19f_0 0\n",
      "286 ./train/r_19f_7 1\n",
      "287 ./train/r_19f_14 2\n",
      "288 ./train/r_19f_21 3\n",
      "289 ./train/r_19f_28 4\n",
      "290 ./train/r_19f_35 5\n",
      "291 ./train/r_19f_42 6\n",
      "292 ./train/r_19f_49 7\n",
      "293 ./train/r_19f_56 8\n",
      "294 ./train/r_19f_63 9\n",
      "295 ./train/r_19f_70 10\n",
      "296 ./train/r_19f_77 11\n",
      "297 ./train/r_19f_84 12\n",
      "298 ./train/r_19f_91 13\n",
      "299 ./train/r_19f_98 14\n"
     ]
    }
   ],
   "source": [
    "for i, frame in enumerate(data[\"frames\"]):\n",
    "    print(i, frame[\"file_path\"], frame[\"anim_frame\"])\n",
    "#     frame[\"anim_frame\"] /= 7"
   ]
  },
  {
   "cell_type": "code",
   "execution_count": 7,
   "id": "1c669c0d",
   "metadata": {},
   "outputs": [],
   "source": [
    "# with open(out_path, 'w') as f:\n",
    "#     json.dump(data, f, indent=4)"
   ]
  },
  {
   "cell_type": "code",
   "execution_count": 8,
   "id": "7d498579",
   "metadata": {},
   "outputs": [
    {
     "data": {
      "text/plain": [
       "tensor(-53.7561)"
      ]
     },
     "execution_count": 8,
     "metadata": {},
     "output_type": "execute_result"
    }
   ],
   "source": [
    "import torch\n",
    "rad = torch.deg2rad(torch.tensor(-3080.0))\n",
    "rad"
   ]
  },
  {
   "cell_type": "code",
   "execution_count": null,
   "id": "80f9f372",
   "metadata": {},
   "outputs": [],
   "source": []
  }
 ],
 "metadata": {
  "kernelspec": {
   "display_name": "Python 3 (ipykernel)",
   "language": "python",
   "name": "python3"
  },
  "language_info": {
   "codemirror_mode": {
    "name": "ipython",
    "version": 3
   },
   "file_extension": ".py",
   "mimetype": "text/x-python",
   "name": "python",
   "nbconvert_exporter": "python",
   "pygments_lexer": "ipython3",
   "version": "3.8.12"
  }
 },
 "nbformat": 4,
 "nbformat_minor": 5
}
